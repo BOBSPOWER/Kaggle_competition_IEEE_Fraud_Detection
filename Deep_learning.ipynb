{
 "cells": [
  {
   "cell_type": "code",
   "execution_count": 2,
   "metadata": {},
   "outputs": [],
   "source": [
    " # import basic package\n",
    "import pandas as pd\n",
    "import numpy as np\n",
    "import matplotlib.pyplot as plt\n",
    "import seaborn as sns\n",
    "from matplotlib import style\n",
    "import warnings\n",
    "warnings.filterwarnings('ignore')\n",
    "style.use('ggplot')\n",
    "color_pal = [x['color'] for x in plt.rcParams['axes.prop_cycle']]\n",
    "\n",
    "\n",
    "from sklearn.model_selection import train_test_split\n",
    "from sklearn import metrics\n",
    "\n",
    "from sklearn.model_selection import cross_val_score\n",
    "from sklearn.metrics import roc_curve, auc\n",
    "from sklearn.metrics import accuracy_score, confusion_matrix\n",
    "from sklearn.metrics import classification_report\n",
    "from sklearn.model_selection import GridSearchCV\n",
    "from imblearn.under_sampling import NearMiss\n",
    "from imblearn.over_sampling import RandomOverSampler\n",
    "from collections import Counter\n",
    "\n",
    "import tensorflow as tf\n",
    "from tensorflow.keras import Sequential\n",
    "from tensorflow.keras.layers import Dense, Conv1D\n",
    "from tensorflow.keras.layers import Dropout\n",
    "from tensorflow.keras.callbacks import ModelCheckpoint\n",
    "from tensorflow.keras.models import load_model"
   ]
  },
  {
   "cell_type": "markdown",
   "metadata": {},
   "source": [
    "# Pre-process"
   ]
  },
  {
   "cell_type": "code",
   "execution_count": 3,
   "metadata": {},
   "outputs": [
    {
     "name": "stdout",
     "output_type": "stream",
     "text": [
      "**** Successfully loading traing dataset ****\n",
      "**** Successfully loading testing dataset ****\n"
     ]
    }
   ],
   "source": [
    "# From the previous ML part, we already split dataset into training and testing, hear we will call them.\n",
    "train = pd.read_csv('FullData_nor_train.csv')\n",
    "train.drop(columns='Unnamed: 0',inplace=True)\n",
    "print(f'**** Successfully loading traing dataset ****')\n",
    "test = pd.read_csv('FullData_nor_test.csv')\n",
    "test.drop(columns='Unnamed: 0',inplace=True)\n",
    "print(f'**** Successfully loading testing dataset ****')\n"
   ]
  },
  {
   "cell_type": "markdown",
   "metadata": {},
   "source": [
    "# Modelling based on 80% of dataset"
   ]
  },
  {
   "cell_type": "code",
   "execution_count": 4,
   "metadata": {},
   "outputs": [],
   "source": [
    "training, testing = train_test_split(train,test_size=0.2, random_state=42)"
   ]
  },
  {
   "cell_type": "markdown",
   "metadata": {},
   "source": [
    "# Prepare for traning and validation dataset based on 80% of total dataset"
   ]
  },
  {
   "cell_type": "code",
   "execution_count": 7,
   "metadata": {},
   "outputs": [
    {
     "name": "stdout",
     "output_type": "stream",
     "text": [
      "X_.shape: (118108, 570)   y_.shape: (118108,)\n"
     ]
    }
   ],
   "source": [
    "# Setup X_,y_ from testing (20% of Full dataset) for future testing.\n",
    "target_column = 'isFraud'\n",
    "feature_columns = [c for c in training.columns if c!= 'isFraud']\n",
    "y_ = testing[target_column].values\n",
    "X_ = testing[feature_columns].values\n",
    "print(f'X_.shape: {X_.shape}   y_.shape: {y_.shape}')"
   ]
  },
  {
   "cell_type": "code",
   "execution_count": 8,
   "metadata": {},
   "outputs": [
    {
     "name": "stdout",
     "output_type": "stream",
     "text": [
      "X_train.shape: (377945, 570)   X_test.shape: (94487, 570)\n",
      "y_train.shape: (377945,)   y_test.shape: (94487,)\n"
     ]
    }
   ],
   "source": [
    "# Setup X,y from training (80% of Full dataset) for training.\n",
    "y = training[target_column].values\n",
    "X = training[feature_columns].values\n",
    "X_train, X_test, y_train, y_test = train_test_split(X, y,test_size=0.2, random_state=42)\n",
    "print(f'X_train.shape: {X_train.shape}   X_test.shape: {X_test.shape}')\n",
    "print(f'y_train.shape: {y_train.shape}   y_test.shape: {y_test.shape}')"
   ]
  },
  {
   "cell_type": "markdown",
   "metadata": {},
   "source": [
    "# Modelling (DL)\n",
    "\n",
    "The model has been trained with the orginal dataset (96.5% normal v.s. 3.5% fraud)"
   ]
  },
  {
   "cell_type": "code",
   "execution_count": 11,
   "metadata": {},
   "outputs": [],
   "source": [
    "model = Sequential()\n",
    "model.add(Dense(units=128, input_dim = 570,activation='relu'))\n",
    "model.add(Dense(units=256,activation='relu'))  \n",
    "model.add(Dense(128,activation='relu'))\n",
    "model.add(Dense(64,activation='relu'))\n",
    "model.add(Dense(16,activation='relu'))\n",
    "model.add(Dense(1,activation='sigmoid'))\n"
   ]
  },
  {
   "cell_type": "code",
   "execution_count": 12,
   "metadata": {
    "collapsed": true
   },
   "outputs": [
    {
     "name": "stdout",
     "output_type": "stream",
     "text": [
      "Epoch 1/15\n",
      "377945/377945 [==============================] - 13s 35us/sample - loss: 0.1119 - acc: 0.9702\n",
      "Epoch 2/15\n",
      "377945/377945 [==============================] - 13s 33us/sample - loss: 0.1018 - acc: 0.9726\n",
      "Epoch 3/15\n",
      "377945/377945 [==============================] - 13s 34us/sample - loss: 0.0984 - acc: 0.9736\n",
      "Epoch 4/15\n",
      "377945/377945 [==============================] - 13s 35us/sample - loss: 0.0958 - acc: 0.9741\n",
      "Epoch 5/15\n",
      "377945/377945 [==============================] - 14s 37us/sample - loss: 0.0942 - acc: 0.9746\n",
      "Epoch 6/15\n",
      "377945/377945 [==============================] - 13s 34us/sample - loss: 0.0924 - acc: 0.9751\n",
      "Epoch 7/15\n",
      "377945/377945 [==============================] - 13s 34us/sample - loss: 0.0908 - acc: 0.9755\n",
      "Epoch 8/15\n",
      "377945/377945 [==============================] - 13s 34us/sample - loss: 0.0896 - acc: 0.9757\n",
      "Epoch 9/15\n",
      "377945/377945 [==============================] - 13s 34us/sample - loss: 0.0881 - acc: 0.9762\n",
      "Epoch 10/15\n",
      "377945/377945 [==============================] - 13s 34us/sample - loss: 0.0865 - acc: 0.9767\n",
      "Epoch 11/15\n",
      "377945/377945 [==============================] - 13s 34us/sample - loss: 0.0856 - acc: 0.9769\n",
      "Epoch 12/15\n",
      "377945/377945 [==============================] - 13s 34us/sample - loss: 0.0842 - acc: 0.9772\n",
      "Epoch 13/15\n",
      "377945/377945 [==============================] - 13s 34us/sample - loss: 0.0835 - acc: 0.9773\n",
      "Epoch 14/15\n",
      "377945/377945 [==============================] - 13s 34us/sample - loss: 0.0821 - acc: 0.9776\n",
      "Epoch 15/15\n",
      "377945/377945 [==============================] - 13s 34us/sample - loss: 0.0811 - acc: 0.9778\n"
     ]
    },
    {
     "data": {
      "text/plain": [
       "<tensorflow.python.keras.callbacks.History at 0x1a49718c90>"
      ]
     },
     "execution_count": 12,
     "metadata": {},
     "output_type": "execute_result"
    }
   ],
   "source": [
    "model.compile(optimizer='adam',loss='binary_crossentropy',metrics=['accuracy'])\n",
    "model.fit(X_train,y_train,batch_size=150,epochs=15)"
   ]
  },
  {
   "cell_type": "code",
   "execution_count": 13,
   "metadata": {},
   "outputs": [
    {
     "name": "stdout",
     "output_type": "stream",
     "text": [
      "94487/94487 [==============================] - 3s 34us/sample - loss: 0.0923 - acc: 0.9752\n",
      "[0.09228137764539475, 0.9752135]\n"
     ]
    }
   ],
   "source": [
    "score = model.evaluate(X_test, y_test)\n",
    "print(score)"
   ]
  },
  {
   "cell_type": "code",
   "execution_count": 15,
   "metadata": {},
   "outputs": [
    {
     "name": "stdout",
     "output_type": "stream",
     "text": [
      "Confusion matrix, without normalization\n",
      "[[90956   138]\n",
      " [ 2204  1189]]\n"
     ]
    },
    {
     "data": {
      "image/png": "[encoded data removed]",
      "text/plain": [
       "<Figure size 432x288 with 2 Axes>"
      ]
     },
     "metadata": {},
     "output_type": "display_data"
    }
   ],
   "source": [
    "y_pred = model.predict(X_test)\n",
    "y_test = pd.DataFrame(y_test)\n",
    "cnf_matrix = confusion_matrix(y_test, y_pred.round())\n",
    "plot_confusion_matrix(cnf_matrix, classes=[0,1])\n",
    "plt.show()"
   ]
  },
  {
   "cell_type": "code",
   "execution_count": 16,
   "metadata": {},
   "outputs": [
    {
     "name": "stdout",
     "output_type": "stream",
     "text": [
      "Accuracy is 0.9751413960104311\n",
      "              precision    recall  f1-score   support\n",
      "\n",
      "         0.0       0.98      1.00      0.99    113866\n",
      "         1.0       0.87      0.36      0.51      4242\n",
      "\n",
      "    accuracy                           0.98    118108\n",
      "   macro avg       0.92      0.68      0.75    118108\n",
      "weighted avg       0.97      0.98      0.97    118108\n",
      "\n"
     ]
    },
    {
     "data": {
      "image/png": "[encoded data removed]",
      "text/plain": [
       "<Figure size 432x288 with 2 Axes>"
      ]
     },
     "metadata": {},
     "output_type": "display_data"
    }
   ],
   "source": [
    "y_prob = model.predict_proba(X_)\n",
    "for i in range(0,len(y_prob)):\n",
    "#     print(i)\n",
    "    if y_prob[i] >= 0.4:\n",
    "        y_prob[i] = 1\n",
    "    else:\n",
    "        y_prob[i] = 0\n",
    "        \n",
    "# print(y_prob)\n",
    "accuracy = accuracy_score(y_prob, y_)\n",
    "print(f'Accuracy is {accuracy}')\n",
    "print(classification_report(y_, y_prob))\n",
    "cm = confusion_matrix(y_, y_prob)\n",
    "sns.heatmap(cm,annot=True,fmt=\"d\");"
   ]
  },
  {
   "cell_type": "code",
   "execution_count": null,
   "metadata": {},
   "outputs": [],
   "source": []
  },
  {
   "cell_type": "markdown",
   "metadata": {},
   "source": [
    "# Try Oversampling (RandomOverSampler)"
   ]
  },
  {
   "cell_type": "code",
   "execution_count": 17,
   "metadata": {
    "scrolled": true
   },
   "outputs": [
    {
     "name": "stdout",
     "output_type": "stream",
     "text": [
      "Original dataset shape Counter({0.0: 456011, 1.0: 16421})\n",
      "Oversampling dataset shape Counter({0.0: 456011, 1.0: 456011})\n",
      "X_train.shape: (729617, 570)   X_test.shape: (182405, 570)\n",
      "y_train.shape: (729617,)   y_test.shape: (182405,)\n"
     ]
    }
   ],
   "source": [
    "os = RandomOverSampler(ratio=1, random_state=42)\n",
    "X_res, y_res = os.fit_sample(X,y)\n",
    "\n",
    "print('Original dataset shape {}'.format(Counter(y)))\n",
    "print('Oversampling dataset shape {}'.format(Counter(y_res)))\n",
    "\n",
    "X_train, X_test, y_train, y_test = train_test_split(X_res, y_res,test_size=0.2, random_state=42)\n",
    "print(f'X_train.shape: {X_train.shape}   X_test.shape: {X_test.shape}')\n",
    "print(f'y_train.shape: {y_train.shape}   y_test.shape: {y_test.shape}')"
   ]
  },
  {
   "cell_type": "code",
   "execution_count": 20,
   "metadata": {
    "scrolled": true
   },
   "outputs": [
    {
     "name": "stdout",
     "output_type": "stream",
     "text": [
      "\n",
      "Epoch 00001: val_acc improved from -inf to 0.72778, saving model to weights-improvement-01-0.73.hdf5\n",
      "\n",
      "Epoch 00002: val_acc improved from 0.72778 to 0.73228, saving model to weights-improvement-02-0.73.hdf5\n",
      "\n",
      "Epoch 00003: val_acc did not improve from 0.73228\n",
      "\n",
      "Epoch 00004: val_acc improved from 0.73228 to 0.82170, saving model to weights-improvement-04-0.82.hdf5\n",
      "\n",
      "Epoch 00005: val_acc improved from 0.82170 to 0.86713, saving model to weights-improvement-05-0.87.hdf5\n",
      "\n",
      "Epoch 00006: val_acc improved from 0.86713 to 0.88086, saving model to weights-improvement-06-0.88.hdf5\n",
      "\n",
      "Epoch 00007: val_acc improved from 0.88086 to 0.90261, saving model to weights-improvement-07-0.90.hdf5\n",
      "\n",
      "Epoch 00008: val_acc improved from 0.90261 to 0.95080, saving model to weights-improvement-08-0.95.hdf5\n",
      "\n",
      "Epoch 00009: val_acc did not improve from 0.95080\n",
      "\n",
      "Epoch 00010: val_acc did not improve from 0.95080\n",
      "\n",
      "Epoch 00011: val_acc improved from 0.95080 to 0.96418, saving model to weights-improvement-11-0.96.hdf5\n",
      "\n",
      "Epoch 00012: val_acc improved from 0.96418 to 0.96587, saving model to weights-improvement-12-0.97.hdf5\n",
      "\n",
      "Epoch 00013: val_acc improved from 0.96587 to 0.97017, saving model to weights-improvement-13-0.97.hdf5\n",
      "\n",
      "Epoch 00014: val_acc did not improve from 0.97017\n",
      "\n",
      "Epoch 00015: val_acc did not improve from 0.97017\n",
      "\n",
      "Epoch 00016: val_acc improved from 0.97017 to 0.97133, saving model to weights-improvement-16-0.97.hdf5\n",
      "\n",
      "Epoch 00017: val_acc improved from 0.97133 to 0.97847, saving model to weights-improvement-17-0.98.hdf5\n",
      "\n",
      "Epoch 00018: val_acc improved from 0.97847 to 0.97909, saving model to weights-improvement-18-0.98.hdf5\n",
      "\n",
      "Epoch 00019: val_acc did not improve from 0.97909\n",
      "\n",
      "Epoch 00020: val_acc improved from 0.97909 to 0.98521, saving model to weights-improvement-20-0.99.hdf5\n",
      "\n",
      "Epoch 00021: val_acc improved from 0.98521 to 0.98640, saving model to weights-improvement-21-0.99.hdf5\n",
      "\n",
      "Epoch 00022: val_acc did not improve from 0.98640\n",
      "\n",
      "Epoch 00023: val_acc did not improve from 0.98640\n",
      "\n",
      "Epoch 00024: val_acc improved from 0.98640 to 0.99070, saving model to weights-improvement-24-0.99.hdf5\n",
      "\n",
      "Epoch 00025: val_acc did not improve from 0.99070\n",
      "\n",
      "Epoch 00026: val_acc did not improve from 0.99070\n",
      "\n",
      "Epoch 00027: val_acc improved from 0.99070 to 0.99138, saving model to weights-improvement-27-0.99.hdf5\n",
      "\n",
      "Epoch 00028: val_acc did not improve from 0.99138\n",
      "\n",
      "Epoch 00029: val_acc did not improve from 0.99138\n",
      "\n",
      "Epoch 00030: val_acc did not improve from 0.99138\n",
      "\n",
      "Epoch 00031: val_acc did not improve from 0.99138\n",
      "\n",
      "Epoch 00032: val_acc did not improve from 0.99138\n",
      "\n",
      "Epoch 00033: val_acc did not improve from 0.99138\n",
      "\n",
      "Epoch 00034: val_acc did not improve from 0.99138\n",
      "\n",
      "Epoch 00035: val_acc improved from 0.99138 to 0.99680, saving model to weights-improvement-35-1.00.hdf5\n",
      "\n",
      "Epoch 00036: val_acc did not improve from 0.99680\n",
      "\n",
      "Epoch 00037: val_acc did not improve from 0.99680\n",
      "\n",
      "Epoch 00038: val_acc did not improve from 0.99680\n",
      "\n",
      "Epoch 00039: val_acc did not improve from 0.99680\n",
      "\n",
      "Epoch 00040: val_acc did not improve from 0.99680\n",
      "\n",
      "Epoch 00041: val_acc did not improve from 0.99680\n",
      "\n",
      "Epoch 00042: val_acc did not improve from 0.99680\n",
      "\n",
      "Epoch 00043: val_acc did not improve from 0.99680\n",
      "\n",
      "Epoch 00044: val_acc did not improve from 0.99680\n",
      "\n",
      "Epoch 00045: val_acc did not improve from 0.99680\n",
      "\n",
      "Epoch 00046: val_acc did not improve from 0.99680\n",
      "\n",
      "Epoch 00047: val_acc did not improve from 0.99680\n",
      "\n",
      "Epoch 00048: val_acc did not improve from 0.99680\n",
      "\n",
      "Epoch 00049: val_acc did not improve from 0.99680\n",
      "\n",
      "Epoch 00050: val_acc did not improve from 0.99680\n"
     ]
    },
    {
     "data": {
      "text/plain": [
       "<tensorflow.python.keras.callbacks.History at 0x1b1fde6c50>"
      ]
     },
     "execution_count": 20,
     "metadata": {},
     "output_type": "execute_result"
    }
   ],
   "source": [
    "model = Sequential()\n",
    "# model.add(Conv1D(filters = 256,input_shape = (None, 499),kernel_size =10, activation='relu'))\n",
    "model.add(Dense(units=256, input_dim = 570,activation='relu'))\n",
    "model.add(Dense(units=512,activation='relu'))  \n",
    "model.add(Dense(256,activation='relu'))\n",
    "model.add(Dense(128,activation='relu'))\n",
    "model.add(Dense(32,activation='relu'))\n",
    "model.add(Dense(1,activation='sigmoid'))\n",
    "model.compile(optimizer='adam',loss='binary_crossentropy',metrics=['accuracy'])\n",
    "# checkpoint\n",
    "filepath=\"weights-improvement-{epoch:02d}-{val_acc:.2f}.hdf5\"\n",
    "checkpoint = ModelCheckpoint(filepath, monitor='val_acc', verbose=1, save_best_only=True, mode='max')\n",
    "callbacks_list = [checkpoint]\n",
    "# Fit the model\n",
    "model.fit(X_res, y_res, validation_split=0.33, epochs=50, batch_size=100, callbacks=callbacks_list, verbose=0)"
   ]
  },
  {
   "cell_type": "code",
   "execution_count": null,
   "metadata": {},
   "outputs": [],
   "source": []
  },
  {
   "cell_type": "code",
   "execution_count": 21,
   "metadata": {},
   "outputs": [
    {
     "name": "stderr",
     "output_type": "stream",
     "text": [
      "W0901 09:38:41.655994 4508431808 deprecation.py:506] From /anaconda3/envs/python/lib/python3.7/site-packages/tensorflow/python/ops/init_ops.py:97: calling GlorotUniform.__init__ (from tensorflow.python.ops.init_ops) with dtype is deprecated and will be removed in a future version.\n",
      "Instructions for updating:\n",
      "Call initializer instance with the dtype argument instead of passing it to the constructor\n",
      "W0901 09:38:41.658146 4508431808 deprecation.py:506] From /anaconda3/envs/python/lib/python3.7/site-packages/tensorflow/python/ops/init_ops.py:97: calling Zeros.__init__ (from tensorflow.python.ops.init_ops) with dtype is deprecated and will be removed in a future version.\n",
      "Instructions for updating:\n",
      "Call initializer instance with the dtype argument instead of passing it to the constructor\n"
     ]
    }
   ],
   "source": [
    "model = load_model('weights-improvement-35-1.00.hdf5')"
   ]
  },
  {
   "cell_type": "code",
   "execution_count": 22,
   "metadata": {},
   "outputs": [
    {
     "name": "stdout",
     "output_type": "stream",
     "text": [
      "Accuracy is 0.975149862837403\n",
      "              precision    recall  f1-score   support\n",
      "\n",
      "         0.0       0.99      0.99      0.99    113866\n",
      "         1.0       0.65      0.67      0.66      4242\n",
      "\n",
      "    accuracy                           0.98    118108\n",
      "   macro avg       0.82      0.83      0.82    118108\n",
      "weighted avg       0.98      0.98      0.98    118108\n",
      "\n"
     ]
    },
    {
     "data": {
      "image/png": "[encoded data removed]",
      "text/plain": [
       "<Figure size 432x288 with 2 Axes>"
      ]
     },
     "metadata": {},
     "output_type": "display_data"
    }
   ],
   "source": [
    "y_prob = model.predict_proba(X_)\n",
    "for i in range(0,len(y_prob)):\n",
    "#     print(i)\n",
    "    if y_prob[i] >= 0.4:\n",
    "        y_prob[i] = 1\n",
    "    else:\n",
    "        y_prob[i] = 0\n",
    "        \n",
    "# print(y_prob)\n",
    "accuracy = accuracy_score(y_prob, y_)\n",
    "print(f'Accuracy is {accuracy}')\n",
    "print(classification_report(y_, y_prob))\n",
    "cm = confusion_matrix(y_, y_prob)\n",
    "sns.heatmap(cm,annot=True,fmt=\"d\");"
   ]
  },
  {
   "cell_type": "code",
   "execution_count": null,
   "metadata": {},
   "outputs": [],
   "source": []
  },
  {
   "cell_type": "code",
   "execution_count": null,
   "metadata": {},
   "outputs": [],
   "source": []
  },
  {
   "cell_type": "markdown",
   "metadata": {},
   "source": [
    "# Functions"
   ]
  },
  {
   "cell_type": "code",
   "execution_count": 14,
   "metadata": {},
   "outputs": [],
   "source": [
    "import matplotlib.pyplot as plt\n",
    "import itertools\n",
    "\n",
    "from sklearn import svm, datasets\n",
    "from sklearn.metrics import confusion_matrix\n",
    "\n",
    "def plot_confusion_matrix(cm, classes,\n",
    "                          normalize=False,\n",
    "                          title='Confusion matrix',\n",
    "                          cmap=plt.cm.Blues):\n",
    "    \"\"\"\n",
    "    This function prints and plots the confusion matrix.\n",
    "    Normalization can be applied by setting `normalize=True`.\n",
    "    \"\"\"\n",
    "    if normalize:\n",
    "        cm = cm.astype('float') / cm.sum(axis=1)[:, np.newaxis]\n",
    "        print(\"Normalized confusion matrix\")\n",
    "    else:\n",
    "        print('Confusion matrix, without normalization')\n",
    "\n",
    "    print(cm)\n",
    "\n",
    "    plt.imshow(cm, interpolation='nearest', cmap=cmap)\n",
    "    plt.title(title)\n",
    "    plt.colorbar()\n",
    "    tick_marks = np.arange(len(classes))\n",
    "    plt.xticks(tick_marks, classes, rotation=45)\n",
    "    plt.yticks(tick_marks, classes)\n",
    "\n",
    "    fmt = '.2f' if normalize else 'd'\n",
    "    thresh = cm.max() / 2.\n",
    "    for i, j in itertools.product(range(cm.shape[0]), range(cm.shape[1])):\n",
    "        plt.text(j, i, format(cm[i, j], fmt),\n",
    "                 horizontalalignment=\"center\",\n",
    "                 color=\"white\" if cm[i, j] > thresh else \"black\")\n",
    "\n",
    "    plt.ylabel('True label')\n",
    "    plt.xlabel('Predicted label')\n",
    "    plt.tight_layout()"
   ]
  },
  {
   "cell_type": "code",
   "execution_count": null,
   "metadata": {},
   "outputs": [],
   "source": []
  },
  {
   "cell_type": "code",
   "execution_count": null,
   "metadata": {},
   "outputs": [],
   "source": []
  }
 ],
 "metadata": {
  "kernelspec": {
   "display_name": "Python 3",
   "language": "python",
   "name": "python3"
  },
  "language_info": {
   "codemirror_mode": {
    "name": "ipython",
    "version": 3
   },
   "file_extension": ".py",
   "mimetype": "text/x-python",
   "name": "python",
   "nbconvert_exporter": "python",
   "pygments_lexer": "ipython3",
   "version": "3.7.4"
  }
 },
 "nbformat": 4,
 "nbformat_minor": 2
}
