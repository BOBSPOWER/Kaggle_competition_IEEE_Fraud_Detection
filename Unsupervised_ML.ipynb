{
 "cells": [
  {
   "cell_type": "code",
   "execution_count": 1,
   "metadata": {},
   "outputs": [],
   "source": [
    " # import basic package\n",
    "import pandas as pd\n",
    "from pandas.api.types import is_string_dtype\n",
    "from pandas.api.types import is_numeric_dtype\n",
    "import numpy as np\n",
    "import matplotlib.pyplot as plt\n",
    "import seaborn as sns\n",
    "from matplotlib import style\n",
    "\n",
    "#Deal with warnings\n",
    "import warnings\n",
    "warnings.filterwarnings('ignore')\n",
    "style.use('ggplot')\n",
    "color_pal = [x['color'] for x in plt.rcParams['axes.prop_cycle']]\n",
    "\n",
    "#import my own packages\n",
    "# import fraud_fun\n",
    "# import myfunc_pd as mf\n",
    "\n",
    "\n",
    "# from binary encoder import package \n",
    "import category_encoders as ce\n",
    "\n",
    "#import package for ML and feature engineering\n",
    "import datetime\n",
    "from sklearn.preprocessing import MinMaxScaler\n",
    "from sklearn.preprocessing import Imputer\n",
    "from sklearn.model_selection import train_test_split\n",
    "from sklearn.preprocessing import LabelEncoder\n",
    "from sklearn.feature_selection import SelectKBest\n",
    "from sklearn.feature_selection import chi2\n",
    "from sklearn.feature_selection import RFE\n",
    "from sklearn.linear_model import LogisticRegression\n",
    "from sklearn.decomposition import PCA\n",
    "\n",
    "from sklearn.svm import SVC, OneClassSVM\n",
    "from sklearn.naive_bayes import BernoulliNB\n",
    "from sklearn import metrics\n",
    "\n",
    "from sklearn.model_selection import cross_val_score\n",
    "from sklearn.metrics import roc_curve, auc\n",
    "from sklearn.metrics import accuracy_score, confusion_matrix\n",
    "from sklearn.metrics import classification_report\n",
    "from sklearn.model_selection import GridSearchCV\n",
    "from sklearn.ensemble import RandomForestClassifier\n",
    "import xgboost as xgb\n",
    "from sklearn.metrics import mean_squared_error\n",
    "from imblearn.under_sampling import NearMiss\n",
    "import lightgbm"
   ]
  },
  {
   "cell_type": "markdown",
   "metadata": {},
   "source": [
    "# Reading Full dataset"
   ]
  },
  {
   "cell_type": "code",
   "execution_count": 11,
   "metadata": {},
   "outputs": [
    {
     "data": {
      "text/plain": [
       "((590540, 571), (506691, 570))"
      ]
     },
     "execution_count": 11,
     "metadata": {},
     "output_type": "execute_result"
    }
   ],
   "source": [
    "train = pd.read_csv('FullData_nor_train.csv')\n",
    "train.drop(columns='Unnamed: 0',inplace=True)\n",
    "test = pd.read_csv('FullData_nor_test.csv')\n",
    "test.drop(columns='Unnamed: 0',inplace=True)\n",
    "\n",
    "train.shape, test.shape"
   ]
  },
  {
   "cell_type": "markdown",
   "metadata": {},
   "source": [
    "# Modelling based on 80% of dataset"
   ]
  },
  {
   "cell_type": "code",
   "execution_count": 12,
   "metadata": {},
   "outputs": [],
   "source": [
    "training, testing = train_test_split(train,test_size=0.2, random_state=42)"
   ]
  },
  {
   "cell_type": "markdown",
   "metadata": {},
   "source": [
    "# Feature Selection (chi2)"
   ]
  },
  {
   "cell_type": "code",
   "execution_count": 13,
   "metadata": {},
   "outputs": [
    {
     "data": {
      "text/html": [
       "<div>\n",
       "<style scoped>\n",
       "    .dataframe tbody tr th:only-of-type {\n",
       "        vertical-align: middle;\n",
       "    }\n",
       "\n",
       "    .dataframe tbody tr th {\n",
       "        vertical-align: top;\n",
       "    }\n",
       "\n",
       "    .dataframe thead th {\n",
       "        text-align: right;\n",
       "    }\n",
       "</style>\n",
       "<table border=\"1\" class=\"dataframe\">\n",
       "  <thead>\n",
       "    <tr style=\"text-align: right;\">\n",
       "      <th></th>\n",
       "      <th>isFraud</th>\n",
       "      <th>TransactionAmt</th>\n",
       "      <th>card1</th>\n",
       "      <th>card2</th>\n",
       "      <th>card3</th>\n",
       "      <th>card5</th>\n",
       "      <th>addr1</th>\n",
       "      <th>addr2</th>\n",
       "      <th>dist1</th>\n",
       "      <th>dist2</th>\n",
       "      <th>...</th>\n",
       "      <th>id_35_NotFound</th>\n",
       "      <th>id_35_T</th>\n",
       "      <th>id_36_NotFound</th>\n",
       "      <th>id_36_T</th>\n",
       "      <th>id_37_NotFound</th>\n",
       "      <th>id_37_T</th>\n",
       "      <th>id_38_NotFound</th>\n",
       "      <th>id_38_T</th>\n",
       "      <th>DeviceType_desktop</th>\n",
       "      <th>DeviceType_mobile</th>\n",
       "    </tr>\n",
       "  </thead>\n",
       "  <tbody>\n",
       "    <tr>\n",
       "      <th>5307</th>\n",
       "      <td>0.0</td>\n",
       "      <td>0.001840</td>\n",
       "      <td>0.229248</td>\n",
       "      <td>0.468</td>\n",
       "      <td>0.381679</td>\n",
       "      <td>0.919708</td>\n",
       "      <td>0.488636</td>\n",
       "      <td>0.836957</td>\n",
       "      <td>0.004083</td>\n",
       "      <td>0.019948</td>\n",
       "      <td>...</td>\n",
       "      <td>1.0</td>\n",
       "      <td>0.0</td>\n",
       "      <td>1.0</td>\n",
       "      <td>0.0</td>\n",
       "      <td>1.0</td>\n",
       "      <td>0.0</td>\n",
       "      <td>1.0</td>\n",
       "      <td>0.0</td>\n",
       "      <td>0.0</td>\n",
       "      <td>0.0</td>\n",
       "    </tr>\n",
       "    <tr>\n",
       "      <th>191582</th>\n",
       "      <td>0.0</td>\n",
       "      <td>0.000724</td>\n",
       "      <td>0.164808</td>\n",
       "      <td>0.392</td>\n",
       "      <td>0.648855</td>\n",
       "      <td>0.919708</td>\n",
       "      <td>0.433486</td>\n",
       "      <td>0.834789</td>\n",
       "      <td>0.011521</td>\n",
       "      <td>0.000602</td>\n",
       "      <td>...</td>\n",
       "      <td>0.0</td>\n",
       "      <td>0.0</td>\n",
       "      <td>0.0</td>\n",
       "      <td>0.0</td>\n",
       "      <td>0.0</td>\n",
       "      <td>1.0</td>\n",
       "      <td>0.0</td>\n",
       "      <td>0.0</td>\n",
       "      <td>1.0</td>\n",
       "      <td>0.0</td>\n",
       "    </tr>\n",
       "  </tbody>\n",
       "</table>\n",
       "<p>2 rows × 571 columns</p>\n",
       "</div>"
      ],
      "text/plain": [
       "        isFraud  TransactionAmt     card1  card2     card3     card5  \\\n",
       "5307        0.0        0.001840  0.229248  0.468  0.381679  0.919708   \n",
       "191582      0.0        0.000724  0.164808  0.392  0.648855  0.919708   \n",
       "\n",
       "           addr1     addr2     dist1     dist2  ...  id_35_NotFound  id_35_T  \\\n",
       "5307    0.488636  0.836957  0.004083  0.019948  ...             1.0      0.0   \n",
       "191582  0.433486  0.834789  0.011521  0.000602  ...             0.0      0.0   \n",
       "\n",
       "        id_36_NotFound  id_36_T  id_37_NotFound  id_37_T  id_38_NotFound  \\\n",
       "5307               1.0      0.0             1.0      0.0             1.0   \n",
       "191582             0.0      0.0             0.0      1.0             0.0   \n",
       "\n",
       "        id_38_T  DeviceType_desktop  DeviceType_mobile  \n",
       "5307        0.0                 0.0                0.0  \n",
       "191582      0.0                 1.0                0.0  \n",
       "\n",
       "[2 rows x 571 columns]"
      ]
     },
     "execution_count": 13,
     "metadata": {},
     "output_type": "execute_result"
    }
   ],
   "source": [
    "training.head(2)"
   ]
  },
  {
   "cell_type": "code",
   "execution_count": 14,
   "metadata": {},
   "outputs": [],
   "source": [
    "#Create array from data values\n",
    "\n",
    "array = training.values\n",
    "\n",
    "#Split the data into input and target\n",
    "\n",
    "X = array[:,1:]\n",
    "\n",
    "Y = array[:,0]\n",
    "\n",
    "#We will select the features using chi square\n",
    "\n",
    "chi2_selector = SelectKBest(score_func=chi2, k=350)\n",
    "\n",
    "#Fit the function for ranking the features by score\n",
    "\n",
    "fit = chi2_selector.fit(X, Y)\n",
    "\n",
    "#Summarize scores numpy.set_printoptions(precision=3) print(fit.scores_)\n",
    "\n",
    "#Apply the transformation on to dataset\n",
    "\n",
    "features = fit.transform(X)\n",
    "\n",
    "#Summarize selected features print(features[0:5,:])"
   ]
  },
  {
   "cell_type": "code",
   "execution_count": 15,
   "metadata": {
    "collapsed": true
   },
   "outputs": [
    {
     "data": {
      "text/html": [
       "<div>\n",
       "<style scoped>\n",
       "    .dataframe tbody tr th:only-of-type {\n",
       "        vertical-align: middle;\n",
       "    }\n",
       "\n",
       "    .dataframe tbody tr th {\n",
       "        vertical-align: top;\n",
       "    }\n",
       "\n",
       "    .dataframe thead th {\n",
       "        text-align: right;\n",
       "    }\n",
       "</style>\n",
       "<table border=\"1\" class=\"dataframe\">\n",
       "  <thead>\n",
       "    <tr style=\"text-align: right;\">\n",
       "      <th></th>\n",
       "      <th>ftr</th>\n",
       "      <th>score</th>\n",
       "      <th>pval</th>\n",
       "    </tr>\n",
       "  </thead>\n",
       "  <tbody>\n",
       "    <tr>\n",
       "      <th>0</th>\n",
       "      <td>isFraud</td>\n",
       "      <td>1.037119</td>\n",
       "      <td>3.084924e-01</td>\n",
       "    </tr>\n",
       "    <tr>\n",
       "      <th>1</th>\n",
       "      <td>TransactionAmt</td>\n",
       "      <td>13.541003</td>\n",
       "      <td>2.334077e-04</td>\n",
       "    </tr>\n",
       "    <tr>\n",
       "      <th>2</th>\n",
       "      <td>card1</td>\n",
       "      <td>0.526851</td>\n",
       "      <td>4.679340e-01</td>\n",
       "    </tr>\n",
       "    <tr>\n",
       "      <th>3</th>\n",
       "      <td>card2</td>\n",
       "      <td>200.068694</td>\n",
       "      <td>2.017629e-45</td>\n",
       "    </tr>\n",
       "    <tr>\n",
       "      <th>4</th>\n",
       "      <td>card3</td>\n",
       "      <td>65.325831</td>\n",
       "      <td>6.348376e-16</td>\n",
       "    </tr>\n",
       "    <tr>\n",
       "      <th>5</th>\n",
       "      <td>card5</td>\n",
       "      <td>1.151591</td>\n",
       "      <td>2.832164e-01</td>\n",
       "    </tr>\n",
       "    <tr>\n",
       "      <th>6</th>\n",
       "      <td>addr1</td>\n",
       "      <td>0.228520</td>\n",
       "      <td>6.326237e-01</td>\n",
       "    </tr>\n",
       "    <tr>\n",
       "      <th>7</th>\n",
       "      <td>addr2</td>\n",
       "      <td>2.429117</td>\n",
       "      <td>1.190999e-01</td>\n",
       "    </tr>\n",
       "    <tr>\n",
       "      <th>8</th>\n",
       "      <td>dist1</td>\n",
       "      <td>0.207016</td>\n",
       "      <td>6.491161e-01</td>\n",
       "    </tr>\n",
       "    <tr>\n",
       "      <th>9</th>\n",
       "      <td>dist2</td>\n",
       "      <td>130.603609</td>\n",
       "      <td>3.023327e-30</td>\n",
       "    </tr>\n",
       "    <tr>\n",
       "      <th>10</th>\n",
       "      <td>C1</td>\n",
       "      <td>191.547133</td>\n",
       "      <td>1.460940e-43</td>\n",
       "    </tr>\n",
       "    <tr>\n",
       "      <th>11</th>\n",
       "      <td>C2</td>\n",
       "      <td>3.471046</td>\n",
       "      <td>6.245180e-02</td>\n",
       "    </tr>\n",
       "    <tr>\n",
       "      <th>12</th>\n",
       "      <td>C3</td>\n",
       "      <td>242.321366</td>\n",
       "      <td>1.226179e-54</td>\n",
       "    </tr>\n",
       "    <tr>\n",
       "      <th>13</th>\n",
       "      <td>C4</td>\n",
       "      <td>147.529248</td>\n",
       "      <td>6.012240e-34</td>\n",
       "    </tr>\n",
       "    <tr>\n",
       "      <th>14</th>\n",
       "      <td>C5</td>\n",
       "      <td>58.208805</td>\n",
       "      <td>2.357217e-14</td>\n",
       "    </tr>\n",
       "    <tr>\n",
       "      <th>15</th>\n",
       "      <td>C6</td>\n",
       "      <td>242.869031</td>\n",
       "      <td>9.314162e-55</td>\n",
       "    </tr>\n",
       "    <tr>\n",
       "      <th>16</th>\n",
       "      <td>C7</td>\n",
       "      <td>280.769461</td>\n",
       "      <td>5.104087e-63</td>\n",
       "    </tr>\n",
       "    <tr>\n",
       "      <th>17</th>\n",
       "      <td>C8</td>\n",
       "      <td>135.494097</td>\n",
       "      <td>2.574319e-31</td>\n",
       "    </tr>\n",
       "    <tr>\n",
       "      <th>18</th>\n",
       "      <td>C9</td>\n",
       "      <td>220.760193</td>\n",
       "      <td>6.174009e-50</td>\n",
       "    </tr>\n",
       "    <tr>\n",
       "      <th>19</th>\n",
       "      <td>C10</td>\n",
       "      <td>106.612011</td>\n",
       "      <td>5.414406e-25</td>\n",
       "    </tr>\n",
       "    <tr>\n",
       "      <th>20</th>\n",
       "      <td>C11</td>\n",
       "      <td>300.317449</td>\n",
       "      <td>2.809377e-67</td>\n",
       "    </tr>\n",
       "    <tr>\n",
       "      <th>21</th>\n",
       "      <td>C12</td>\n",
       "      <td>8.157052</td>\n",
       "      <td>4.289404e-03</td>\n",
       "    </tr>\n",
       "    <tr>\n",
       "      <th>22</th>\n",
       "      <td>C13</td>\n",
       "      <td>8.368006</td>\n",
       "      <td>3.818844e-03</td>\n",
       "    </tr>\n",
       "    <tr>\n",
       "      <th>23</th>\n",
       "      <td>C14</td>\n",
       "      <td>869.501953</td>\n",
       "      <td>4.186553e-191</td>\n",
       "    </tr>\n",
       "    <tr>\n",
       "      <th>24</th>\n",
       "      <td>D1</td>\n",
       "      <td>188.623882</td>\n",
       "      <td>6.349120e-43</td>\n",
       "    </tr>\n",
       "    <tr>\n",
       "      <th>25</th>\n",
       "      <td>D2</td>\n",
       "      <td>43.115462</td>\n",
       "      <td>5.160284e-11</td>\n",
       "    </tr>\n",
       "    <tr>\n",
       "      <th>26</th>\n",
       "      <td>D3</td>\n",
       "      <td>154.102941</td>\n",
       "      <td>2.199036e-35</td>\n",
       "    </tr>\n",
       "    <tr>\n",
       "      <th>27</th>\n",
       "      <td>D4</td>\n",
       "      <td>114.380782</td>\n",
       "      <td>1.075412e-26</td>\n",
       "    </tr>\n",
       "    <tr>\n",
       "      <th>28</th>\n",
       "      <td>D5</td>\n",
       "      <td>9.932871</td>\n",
       "      <td>1.623531e-03</td>\n",
       "    </tr>\n",
       "    <tr>\n",
       "      <th>29</th>\n",
       "      <td>D6</td>\n",
       "      <td>35.361751</td>\n",
       "      <td>2.738116e-09</td>\n",
       "    </tr>\n",
       "    <tr>\n",
       "      <th>...</th>\n",
       "      <td>...</td>\n",
       "      <td>...</td>\n",
       "      <td>...</td>\n",
       "    </tr>\n",
       "    <tr>\n",
       "      <th>540</th>\n",
       "      <td>M7_T</td>\n",
       "      <td>914.872526</td>\n",
       "      <td>5.737747e-201</td>\n",
       "    </tr>\n",
       "    <tr>\n",
       "      <th>541</th>\n",
       "      <td>M8_NotFound</td>\n",
       "      <td>714.139996</td>\n",
       "      <td>2.517170e-157</td>\n",
       "    </tr>\n",
       "    <tr>\n",
       "      <th>542</th>\n",
       "      <td>M8_T</td>\n",
       "      <td>914.872526</td>\n",
       "      <td>5.737747e-201</td>\n",
       "    </tr>\n",
       "    <tr>\n",
       "      <th>543</th>\n",
       "      <td>M9_NotFound</td>\n",
       "      <td>1393.434332</td>\n",
       "      <td>5.612613e-305</td>\n",
       "    </tr>\n",
       "    <tr>\n",
       "      <th>544</th>\n",
       "      <td>M9_T</td>\n",
       "      <td>11.084595</td>\n",
       "      <td>8.704784e-04</td>\n",
       "    </tr>\n",
       "    <tr>\n",
       "      <th>545</th>\n",
       "      <td>id_12_NotFound</td>\n",
       "      <td>291.424741</td>\n",
       "      <td>2.432880e-65</td>\n",
       "    </tr>\n",
       "    <tr>\n",
       "      <th>546</th>\n",
       "      <td>id_15_New</td>\n",
       "      <td>2031.021590</td>\n",
       "      <td>0.000000e+00</td>\n",
       "    </tr>\n",
       "    <tr>\n",
       "      <th>547</th>\n",
       "      <td>id_15_NotFound</td>\n",
       "      <td>863.252652</td>\n",
       "      <td>9.559557e-190</td>\n",
       "    </tr>\n",
       "    <tr>\n",
       "      <th>548</th>\n",
       "      <td>id_15_Unknown</td>\n",
       "      <td>1009.463175</td>\n",
       "      <td>1.575152e-221</td>\n",
       "    </tr>\n",
       "    <tr>\n",
       "      <th>549</th>\n",
       "      <td>id_16_NotFound</td>\n",
       "      <td>8.557574</td>\n",
       "      <td>3.440877e-03</td>\n",
       "    </tr>\n",
       "    <tr>\n",
       "      <th>550</th>\n",
       "      <td>id_23_IP_PROXY:HIDDEN</td>\n",
       "      <td>90.321259</td>\n",
       "      <td>2.024654e-21</td>\n",
       "    </tr>\n",
       "    <tr>\n",
       "      <th>551</th>\n",
       "      <td>id_23_IP_PROXY:TRANSPARENT</td>\n",
       "      <td>2.344555</td>\n",
       "      <td>1.257215e-01</td>\n",
       "    </tr>\n",
       "    <tr>\n",
       "      <th>552</th>\n",
       "      <td>id_23_NotFound</td>\n",
       "      <td>2.353850</td>\n",
       "      <td>1.249740e-01</td>\n",
       "    </tr>\n",
       "    <tr>\n",
       "      <th>553</th>\n",
       "      <td>id_27_NotFound</td>\n",
       "      <td>461.271214</td>\n",
       "      <td>2.542459e-102</td>\n",
       "    </tr>\n",
       "    <tr>\n",
       "      <th>554</th>\n",
       "      <td>id_28_New</td>\n",
       "      <td>2029.472357</td>\n",
       "      <td>0.000000e+00</td>\n",
       "    </tr>\n",
       "    <tr>\n",
       "      <th>555</th>\n",
       "      <td>id_28_NotFound</td>\n",
       "      <td>1204.773766</td>\n",
       "      <td>5.595364e-264</td>\n",
       "    </tr>\n",
       "    <tr>\n",
       "      <th>556</th>\n",
       "      <td>id_29_NotFound</td>\n",
       "      <td>0.072020</td>\n",
       "      <td>7.884178e-01</td>\n",
       "    </tr>\n",
       "    <tr>\n",
       "      <th>557</th>\n",
       "      <td>id_34_match_status:-1</td>\n",
       "      <td>6.073040</td>\n",
       "      <td>1.372605e-02</td>\n",
       "    </tr>\n",
       "    <tr>\n",
       "      <th>558</th>\n",
       "      <td>id_34_match_status:0</td>\n",
       "      <td>348.095443</td>\n",
       "      <td>1.101253e-77</td>\n",
       "    </tr>\n",
       "    <tr>\n",
       "      <th>559</th>\n",
       "      <td>id_34_match_status:1</td>\n",
       "      <td>23.105344</td>\n",
       "      <td>1.533639e-06</td>\n",
       "    </tr>\n",
       "    <tr>\n",
       "      <th>560</th>\n",
       "      <td>id_34_match_status:2</td>\n",
       "      <td>2031.021590</td>\n",
       "      <td>0.000000e+00</td>\n",
       "    </tr>\n",
       "    <tr>\n",
       "      <th>561</th>\n",
       "      <td>id_35_NotFound</td>\n",
       "      <td>163.261497</td>\n",
       "      <td>2.193280e-37</td>\n",
       "    </tr>\n",
       "    <tr>\n",
       "      <th>562</th>\n",
       "      <td>id_35_T</td>\n",
       "      <td>2031.021590</td>\n",
       "      <td>0.000000e+00</td>\n",
       "    </tr>\n",
       "    <tr>\n",
       "      <th>563</th>\n",
       "      <td>id_36_NotFound</td>\n",
       "      <td>0.156685</td>\n",
       "      <td>6.922267e-01</td>\n",
       "    </tr>\n",
       "    <tr>\n",
       "      <th>564</th>\n",
       "      <td>id_36_T</td>\n",
       "      <td>2031.021590</td>\n",
       "      <td>0.000000e+00</td>\n",
       "    </tr>\n",
       "    <tr>\n",
       "      <th>565</th>\n",
       "      <td>id_37_NotFound</td>\n",
       "      <td>6001.605599</td>\n",
       "      <td>0.000000e+00</td>\n",
       "    </tr>\n",
       "    <tr>\n",
       "      <th>566</th>\n",
       "      <td>id_37_T</td>\n",
       "      <td>2031.021590</td>\n",
       "      <td>0.000000e+00</td>\n",
       "    </tr>\n",
       "    <tr>\n",
       "      <th>567</th>\n",
       "      <td>id_38_NotFound</td>\n",
       "      <td>941.944790</td>\n",
       "      <td>7.477480e-207</td>\n",
       "    </tr>\n",
       "    <tr>\n",
       "      <th>568</th>\n",
       "      <td>id_38_T</td>\n",
       "      <td>1779.584044</td>\n",
       "      <td>0.000000e+00</td>\n",
       "    </tr>\n",
       "    <tr>\n",
       "      <th>569</th>\n",
       "      <td>DeviceType_desktop</td>\n",
       "      <td>5743.197927</td>\n",
       "      <td>0.000000e+00</td>\n",
       "    </tr>\n",
       "  </tbody>\n",
       "</table>\n",
       "<p>570 rows × 3 columns</p>\n",
       "</div>"
      ],
      "text/plain": [
       "                    ftr        score           pval\n",
       "0               isFraud     1.037119   3.084924e-01\n",
       "1        TransactionAmt    13.541003   2.334077e-04\n",
       "2                 card1     0.526851   4.679340e-01\n",
       "3                 card2   200.068694   2.017629e-45\n",
       "4                 card3    65.325831   6.348376e-16\n",
       "..                  ...          ...            ...\n",
       "565      id_37_NotFound  6001.605599   0.000000e+00\n",
       "566             id_37_T  2031.021590   0.000000e+00\n",
       "567      id_38_NotFound   941.944790  7.477480e-207\n",
       "568             id_38_T  1779.584044   0.000000e+00\n",
       "569  DeviceType_desktop  5743.197927   0.000000e+00\n",
       "\n",
       "[570 rows x 3 columns]"
      ]
     },
     "execution_count": 15,
     "metadata": {},
     "output_type": "execute_result"
    }
   ],
   "source": [
    "# Look at scores returned from the selector for each feature\n",
    "chi2_scores = pd.DataFrame(list(zip(training.columns, chi2_selector.scores_, chi2_selector.pvalues_)), columns=['ftr', 'score', 'pval'])\n",
    "chi2_scores"
   ]
  },
  {
   "cell_type": "code",
   "execution_count": 16,
   "metadata": {},
   "outputs": [],
   "source": [
    "feature_columns = [c for c in training.columns if c != 'isFraud']\n",
    "new_features = []\n",
    "mask = fit.get_support() #list of booleansnew_features = [] # The list of your K best features\n",
    "\n",
    "for bool, feature in zip(mask, feature_columns):\n",
    "    if bool:\n",
    "        new_features.append(feature)\n",
    "\n",
    "training = pd.DataFrame(training[new_features], columns=new_features)\n",
    "training['isFraud'] = Y"
   ]
  },
  {
   "cell_type": "code",
   "execution_count": 17,
   "metadata": {
    "scrolled": true
   },
   "outputs": [
    {
     "data": {
      "text/html": [
       "<div>\n",
       "<style scoped>\n",
       "    .dataframe tbody tr th:only-of-type {\n",
       "        vertical-align: middle;\n",
       "    }\n",
       "\n",
       "    .dataframe tbody tr th {\n",
       "        vertical-align: top;\n",
       "    }\n",
       "\n",
       "    .dataframe thead th {\n",
       "        text-align: right;\n",
       "    }\n",
       "</style>\n",
       "<table border=\"1\" class=\"dataframe\">\n",
       "  <thead>\n",
       "    <tr style=\"text-align: right;\">\n",
       "      <th></th>\n",
       "      <th>card1</th>\n",
       "      <th>card3</th>\n",
       "      <th>card5</th>\n",
       "      <th>C1</th>\n",
       "      <th>C2</th>\n",
       "      <th>C4</th>\n",
       "      <th>C5</th>\n",
       "      <th>C6</th>\n",
       "      <th>C7</th>\n",
       "      <th>C8</th>\n",
       "      <th>...</th>\n",
       "      <th>id_35_NotFound</th>\n",
       "      <th>id_35_T</th>\n",
       "      <th>id_36_NotFound</th>\n",
       "      <th>id_37_NotFound</th>\n",
       "      <th>id_37_T</th>\n",
       "      <th>id_38_NotFound</th>\n",
       "      <th>id_38_T</th>\n",
       "      <th>DeviceType_desktop</th>\n",
       "      <th>DeviceType_mobile</th>\n",
       "      <th>isFraud</th>\n",
       "    </tr>\n",
       "  </thead>\n",
       "  <tbody>\n",
       "    <tr>\n",
       "      <th>5307</th>\n",
       "      <td>0.229248</td>\n",
       "      <td>0.381679</td>\n",
       "      <td>0.919708</td>\n",
       "      <td>0.000427</td>\n",
       "      <td>0.000176</td>\n",
       "      <td>0.000000</td>\n",
       "      <td>0.000000</td>\n",
       "      <td>0.000444</td>\n",
       "      <td>0.000000</td>\n",
       "      <td>0.0000</td>\n",
       "      <td>...</td>\n",
       "      <td>1.0</td>\n",
       "      <td>0.0</td>\n",
       "      <td>1.0</td>\n",
       "      <td>1.0</td>\n",
       "      <td>0.0</td>\n",
       "      <td>1.0</td>\n",
       "      <td>0.0</td>\n",
       "      <td>0.0</td>\n",
       "      <td>0.0</td>\n",
       "      <td>0.0</td>\n",
       "    </tr>\n",
       "    <tr>\n",
       "      <th>191582</th>\n",
       "      <td>0.164808</td>\n",
       "      <td>0.648855</td>\n",
       "      <td>0.919708</td>\n",
       "      <td>0.000213</td>\n",
       "      <td>0.000176</td>\n",
       "      <td>0.000444</td>\n",
       "      <td>0.000000</td>\n",
       "      <td>0.000444</td>\n",
       "      <td>0.000443</td>\n",
       "      <td>0.0003</td>\n",
       "      <td>...</td>\n",
       "      <td>0.0</td>\n",
       "      <td>0.0</td>\n",
       "      <td>0.0</td>\n",
       "      <td>0.0</td>\n",
       "      <td>1.0</td>\n",
       "      <td>0.0</td>\n",
       "      <td>0.0</td>\n",
       "      <td>1.0</td>\n",
       "      <td>0.0</td>\n",
       "      <td>0.0</td>\n",
       "    </tr>\n",
       "    <tr>\n",
       "      <th>260168</th>\n",
       "      <td>0.665498</td>\n",
       "      <td>0.381679</td>\n",
       "      <td>0.481752</td>\n",
       "      <td>0.001281</td>\n",
       "      <td>0.000879</td>\n",
       "      <td>0.000000</td>\n",
       "      <td>0.011461</td>\n",
       "      <td>0.001775</td>\n",
       "      <td>0.000000</td>\n",
       "      <td>0.0000</td>\n",
       "      <td>...</td>\n",
       "      <td>1.0</td>\n",
       "      <td>0.0</td>\n",
       "      <td>1.0</td>\n",
       "      <td>1.0</td>\n",
       "      <td>0.0</td>\n",
       "      <td>1.0</td>\n",
       "      <td>0.0</td>\n",
       "      <td>0.0</td>\n",
       "      <td>0.0</td>\n",
       "      <td>0.0</td>\n",
       "    </tr>\n",
       "    <tr>\n",
       "      <th>18516</th>\n",
       "      <td>0.288515</td>\n",
       "      <td>0.381679</td>\n",
       "      <td>0.919708</td>\n",
       "      <td>0.000213</td>\n",
       "      <td>0.000176</td>\n",
       "      <td>0.000444</td>\n",
       "      <td>0.000000</td>\n",
       "      <td>0.000444</td>\n",
       "      <td>0.000000</td>\n",
       "      <td>0.0006</td>\n",
       "      <td>...</td>\n",
       "      <td>0.0</td>\n",
       "      <td>1.0</td>\n",
       "      <td>0.0</td>\n",
       "      <td>0.0</td>\n",
       "      <td>1.0</td>\n",
       "      <td>0.0</td>\n",
       "      <td>0.0</td>\n",
       "      <td>1.0</td>\n",
       "      <td>0.0</td>\n",
       "      <td>0.0</td>\n",
       "    </tr>\n",
       "    <tr>\n",
       "      <th>47538</th>\n",
       "      <td>0.866579</td>\n",
       "      <td>0.381679</td>\n",
       "      <td>0.014599</td>\n",
       "      <td>0.000213</td>\n",
       "      <td>0.000176</td>\n",
       "      <td>0.000444</td>\n",
       "      <td>0.000000</td>\n",
       "      <td>0.000444</td>\n",
       "      <td>0.000000</td>\n",
       "      <td>0.0003</td>\n",
       "      <td>...</td>\n",
       "      <td>0.0</td>\n",
       "      <td>1.0</td>\n",
       "      <td>0.0</td>\n",
       "      <td>0.0</td>\n",
       "      <td>1.0</td>\n",
       "      <td>0.0</td>\n",
       "      <td>1.0</td>\n",
       "      <td>0.0</td>\n",
       "      <td>1.0</td>\n",
       "      <td>0.0</td>\n",
       "    </tr>\n",
       "  </tbody>\n",
       "</table>\n",
       "<p>5 rows × 351 columns</p>\n",
       "</div>"
      ],
      "text/plain": [
       "           card1     card3     card5        C1        C2        C4        C5  \\\n",
       "5307    0.229248  0.381679  0.919708  0.000427  0.000176  0.000000  0.000000   \n",
       "191582  0.164808  0.648855  0.919708  0.000213  0.000176  0.000444  0.000000   \n",
       "260168  0.665498  0.381679  0.481752  0.001281  0.000879  0.000000  0.011461   \n",
       "18516   0.288515  0.381679  0.919708  0.000213  0.000176  0.000444  0.000000   \n",
       "47538   0.866579  0.381679  0.014599  0.000213  0.000176  0.000444  0.000000   \n",
       "\n",
       "              C6        C7      C8  ...  id_35_NotFound  id_35_T  \\\n",
       "5307    0.000444  0.000000  0.0000  ...             1.0      0.0   \n",
       "191582  0.000444  0.000443  0.0003  ...             0.0      0.0   \n",
       "260168  0.001775  0.000000  0.0000  ...             1.0      0.0   \n",
       "18516   0.000444  0.000000  0.0006  ...             0.0      1.0   \n",
       "47538   0.000444  0.000000  0.0003  ...             0.0      1.0   \n",
       "\n",
       "        id_36_NotFound  id_37_NotFound  id_37_T  id_38_NotFound  id_38_T  \\\n",
       "5307               1.0             1.0      0.0             1.0      0.0   \n",
       "191582             0.0             0.0      1.0             0.0      0.0   \n",
       "260168             1.0             1.0      0.0             1.0      0.0   \n",
       "18516              0.0             0.0      1.0             0.0      0.0   \n",
       "47538              0.0             0.0      1.0             0.0      1.0   \n",
       "\n",
       "        DeviceType_desktop  DeviceType_mobile  isFraud  \n",
       "5307                   0.0                0.0      0.0  \n",
       "191582                 1.0                0.0      0.0  \n",
       "260168                 0.0                0.0      0.0  \n",
       "18516                  1.0                0.0      0.0  \n",
       "47538                  0.0                1.0      0.0  \n",
       "\n",
       "[5 rows x 351 columns]"
      ]
     },
     "execution_count": 17,
     "metadata": {},
     "output_type": "execute_result"
    }
   ],
   "source": [
    "training.head()"
   ]
  },
  {
   "cell_type": "code",
   "execution_count": 18,
   "metadata": {},
   "outputs": [
    {
     "data": {
      "text/plain": [
       "(472432, 351)"
      ]
     },
     "execution_count": 18,
     "metadata": {},
     "output_type": "execute_result"
    }
   ],
   "source": [
    "training.shape"
   ]
  },
  {
   "cell_type": "code",
   "execution_count": null,
   "metadata": {},
   "outputs": [],
   "source": []
  },
  {
   "cell_type": "markdown",
   "metadata": {},
   "source": [
    "# Modelling (Unsupervised ML)"
   ]
  },
  {
   "cell_type": "code",
   "execution_count": 19,
   "metadata": {},
   "outputs": [
    {
     "data": {
      "text/html": [
       "<div>\n",
       "<style scoped>\n",
       "    .dataframe tbody tr th:only-of-type {\n",
       "        vertical-align: middle;\n",
       "    }\n",
       "\n",
       "    .dataframe tbody tr th {\n",
       "        vertical-align: top;\n",
       "    }\n",
       "\n",
       "    .dataframe thead th {\n",
       "        text-align: right;\n",
       "    }\n",
       "</style>\n",
       "<table border=\"1\" class=\"dataframe\">\n",
       "  <thead>\n",
       "    <tr style=\"text-align: right;\">\n",
       "      <th></th>\n",
       "      <th>isFraud</th>\n",
       "      <th>TransactionAmt</th>\n",
       "      <th>card1</th>\n",
       "      <th>card2</th>\n",
       "      <th>card3</th>\n",
       "      <th>card5</th>\n",
       "      <th>addr1</th>\n",
       "      <th>addr2</th>\n",
       "      <th>dist1</th>\n",
       "      <th>dist2</th>\n",
       "      <th>...</th>\n",
       "      <th>id_35_NotFound</th>\n",
       "      <th>id_35_T</th>\n",
       "      <th>id_36_NotFound</th>\n",
       "      <th>id_36_T</th>\n",
       "      <th>id_37_NotFound</th>\n",
       "      <th>id_37_T</th>\n",
       "      <th>id_38_NotFound</th>\n",
       "      <th>id_38_T</th>\n",
       "      <th>DeviceType_desktop</th>\n",
       "      <th>DeviceType_mobile</th>\n",
       "    </tr>\n",
       "  </thead>\n",
       "  <tbody>\n",
       "    <tr>\n",
       "      <th>470624</th>\n",
       "      <td>0.0</td>\n",
       "      <td>0.022662</td>\n",
       "      <td>0.392389</td>\n",
       "      <td>0.762</td>\n",
       "      <td>0.381679</td>\n",
       "      <td>0.905109</td>\n",
       "      <td>0.652273</td>\n",
       "      <td>0.836957</td>\n",
       "      <td>0.011521</td>\n",
       "      <td>0.019948</td>\n",
       "      <td>...</td>\n",
       "      <td>1.0</td>\n",
       "      <td>0.0</td>\n",
       "      <td>1.0</td>\n",
       "      <td>0.0</td>\n",
       "      <td>1.0</td>\n",
       "      <td>0.0</td>\n",
       "      <td>1.0</td>\n",
       "      <td>0.0</td>\n",
       "      <td>0.0</td>\n",
       "      <td>0.0</td>\n",
       "    </tr>\n",
       "    <tr>\n",
       "      <th>565820</th>\n",
       "      <td>0.0</td>\n",
       "      <td>0.003389</td>\n",
       "      <td>0.663601</td>\n",
       "      <td>0.442</td>\n",
       "      <td>0.381679</td>\n",
       "      <td>0.919708</td>\n",
       "      <td>0.854545</td>\n",
       "      <td>0.836957</td>\n",
       "      <td>0.000000</td>\n",
       "      <td>0.019948</td>\n",
       "      <td>...</td>\n",
       "      <td>1.0</td>\n",
       "      <td>0.0</td>\n",
       "      <td>1.0</td>\n",
       "      <td>0.0</td>\n",
       "      <td>1.0</td>\n",
       "      <td>0.0</td>\n",
       "      <td>1.0</td>\n",
       "      <td>0.0</td>\n",
       "      <td>0.0</td>\n",
       "      <td>0.0</td>\n",
       "    </tr>\n",
       "    <tr>\n",
       "      <th>284083</th>\n",
       "      <td>0.0</td>\n",
       "      <td>0.001494</td>\n",
       "      <td>0.482870</td>\n",
       "      <td>0.022</td>\n",
       "      <td>0.381679</td>\n",
       "      <td>0.905109</td>\n",
       "      <td>0.488636</td>\n",
       "      <td>0.836957</td>\n",
       "      <td>0.000583</td>\n",
       "      <td>0.019948</td>\n",
       "      <td>...</td>\n",
       "      <td>1.0</td>\n",
       "      <td>0.0</td>\n",
       "      <td>1.0</td>\n",
       "      <td>0.0</td>\n",
       "      <td>1.0</td>\n",
       "      <td>0.0</td>\n",
       "      <td>1.0</td>\n",
       "      <td>0.0</td>\n",
       "      <td>0.0</td>\n",
       "      <td>0.0</td>\n",
       "    </tr>\n",
       "    <tr>\n",
       "      <th>239689</th>\n",
       "      <td>0.0</td>\n",
       "      <td>0.003142</td>\n",
       "      <td>0.855656</td>\n",
       "      <td>0.890</td>\n",
       "      <td>0.648855</td>\n",
       "      <td>0.277372</td>\n",
       "      <td>0.433486</td>\n",
       "      <td>0.834789</td>\n",
       "      <td>0.011521</td>\n",
       "      <td>0.019948</td>\n",
       "      <td>...</td>\n",
       "      <td>1.0</td>\n",
       "      <td>0.0</td>\n",
       "      <td>1.0</td>\n",
       "      <td>0.0</td>\n",
       "      <td>1.0</td>\n",
       "      <td>0.0</td>\n",
       "      <td>1.0</td>\n",
       "      <td>0.0</td>\n",
       "      <td>0.0</td>\n",
       "      <td>0.0</td>\n",
       "    </tr>\n",
       "    <tr>\n",
       "      <th>281855</th>\n",
       "      <td>0.0</td>\n",
       "      <td>0.003372</td>\n",
       "      <td>0.833352</td>\n",
       "      <td>0.780</td>\n",
       "      <td>0.381679</td>\n",
       "      <td>0.919708</td>\n",
       "      <td>0.452273</td>\n",
       "      <td>0.836957</td>\n",
       "      <td>0.011521</td>\n",
       "      <td>0.019948</td>\n",
       "      <td>...</td>\n",
       "      <td>1.0</td>\n",
       "      <td>0.0</td>\n",
       "      <td>1.0</td>\n",
       "      <td>0.0</td>\n",
       "      <td>1.0</td>\n",
       "      <td>0.0</td>\n",
       "      <td>1.0</td>\n",
       "      <td>0.0</td>\n",
       "      <td>0.0</td>\n",
       "      <td>0.0</td>\n",
       "    </tr>\n",
       "  </tbody>\n",
       "</table>\n",
       "<p>5 rows × 571 columns</p>\n",
       "</div>"
      ],
      "text/plain": [
       "        isFraud  TransactionAmt     card1  card2     card3     card5  \\\n",
       "470624      0.0        0.022662  0.392389  0.762  0.381679  0.905109   \n",
       "565820      0.0        0.003389  0.663601  0.442  0.381679  0.919708   \n",
       "284083      0.0        0.001494  0.482870  0.022  0.381679  0.905109   \n",
       "239689      0.0        0.003142  0.855656  0.890  0.648855  0.277372   \n",
       "281855      0.0        0.003372  0.833352  0.780  0.381679  0.919708   \n",
       "\n",
       "           addr1     addr2     dist1     dist2  ...  id_35_NotFound  id_35_T  \\\n",
       "470624  0.652273  0.836957  0.011521  0.019948  ...             1.0      0.0   \n",
       "565820  0.854545  0.836957  0.000000  0.019948  ...             1.0      0.0   \n",
       "284083  0.488636  0.836957  0.000583  0.019948  ...             1.0      0.0   \n",
       "239689  0.433486  0.834789  0.011521  0.019948  ...             1.0      0.0   \n",
       "281855  0.452273  0.836957  0.011521  0.019948  ...             1.0      0.0   \n",
       "\n",
       "        id_36_NotFound  id_36_T  id_37_NotFound  id_37_T  id_38_NotFound  \\\n",
       "470624             1.0      0.0             1.0      0.0             1.0   \n",
       "565820             1.0      0.0             1.0      0.0             1.0   \n",
       "284083             1.0      0.0             1.0      0.0             1.0   \n",
       "239689             1.0      0.0             1.0      0.0             1.0   \n",
       "281855             1.0      0.0             1.0      0.0             1.0   \n",
       "\n",
       "        id_38_T  DeviceType_desktop  DeviceType_mobile  \n",
       "470624      0.0                 0.0                0.0  \n",
       "565820      0.0                 0.0                0.0  \n",
       "284083      0.0                 0.0                0.0  \n",
       "239689      0.0                 0.0                0.0  \n",
       "281855      0.0                 0.0                0.0  \n",
       "\n",
       "[5 rows x 571 columns]"
      ]
     },
     "execution_count": 19,
     "metadata": {},
     "output_type": "execute_result"
    }
   ],
   "source": [
    "# Reading testing (20% of Full dataset) for future testing.\n",
    "target_column = 'isFraud'\n",
    "feature_columns = new_features\n",
    "\n",
    "y_ = testing[target_column].values\n",
    "X_ = testing[feature_columns].values\n",
    "testing.head()"
   ]
  },
  {
   "cell_type": "code",
   "execution_count": 20,
   "metadata": {},
   "outputs": [],
   "source": [
    "y = training[target_column].values\n",
    "X = training[feature_columns].values\n",
    "\n",
    "X_train, X_test, y_train, y_test = train_test_split(X, y,test_size=0.2, random_state=42)"
   ]
  },
  {
   "cell_type": "code",
   "execution_count": 21,
   "metadata": {},
   "outputs": [
    {
     "data": {
      "text/plain": [
       "(472432, 350)"
      ]
     },
     "execution_count": 21,
     "metadata": {},
     "output_type": "execute_result"
    }
   ],
   "source": [
    "X.shape"
   ]
  },
  {
   "cell_type": "markdown",
   "metadata": {},
   "source": [
    "## Isolation Forest"
   ]
  },
  {
   "cell_type": "code",
   "execution_count": 22,
   "metadata": {},
   "outputs": [],
   "source": [
    "from sklearn.ensemble import IsolationForest"
   ]
  },
  {
   "cell_type": "code",
   "execution_count": 23,
   "metadata": {},
   "outputs": [
    {
     "data": {
      "text/plain": [
       "array([ 1,  1, -1, ...,  1,  1,  1])"
      ]
     },
     "execution_count": 23,
     "metadata": {},
     "output_type": "execute_result"
    }
   ],
   "source": [
    "iso_model = IsolationForest(n_estimators=100,behaviour='new',contamination=0.035,random_state=42)\n",
    "iso_model.fit(X_train)\n",
    "iso_model.fit_predict(X_train)"
   ]
  },
  {
   "cell_type": "code",
   "execution_count": 24,
   "metadata": {},
   "outputs": [
    {
     "name": "stdout",
     "output_type": "stream",
     "text": [
      "[[88596  2498]\n",
      " [ 2625   768]]\n",
      "              precision    recall  f1-score   support\n",
      "\n",
      "         0.0       0.97      0.97      0.97     91094\n",
      "         1.0       0.24      0.23      0.23      3393\n",
      "\n",
      "    accuracy                           0.95     94487\n",
      "   macro avg       0.60      0.60      0.60     94487\n",
      "weighted avg       0.94      0.95      0.95     94487\n",
      "\n",
      "0.9457809010763385\n"
     ]
    },
    {
     "data": {
      "image/png": "[encoded data removed]",
      "text/plain": [
       "<Figure size 432x288 with 2 Axes>"
      ]
     },
     "metadata": {
      "needs_background": "light"
     },
     "output_type": "display_data"
    }
   ],
   "source": [
    "# Validation (80% Dataset training):\n",
    "# Returns -1 for outliers and 1 for inliers.\n",
    "\n",
    "y_pred = iso_model.predict(X_test)\n",
    "# TP = 0\n",
    "# FP = 0\n",
    "# TN = 0\n",
    "# FN = 0\n",
    "for i in range(len(y_pred)):\n",
    "    if y_pred[i] == 1:\n",
    "        y_pred[i] = 0\n",
    "    if y_pred[i] == -1:\n",
    "        y_pred[i] = 1\n",
    "   \n",
    "            \n",
    "print(confusion_matrix(y_test,y_pred))\n",
    "print(classification_report(y_test,y_pred))\n",
    "print(accuracy_score(y_test, y_pred))\n",
    "\n",
    "cm = confusion_matrix(y_test, y_pred)\n",
    "sns.heatmap(cm,annot=True,fmt=\"d\");"
   ]
  },
  {
   "cell_type": "code",
   "execution_count": 25,
   "metadata": {},
   "outputs": [
    {
     "name": "stdout",
     "output_type": "stream",
     "text": [
      "[[110744   3122]\n",
      " [  3244    998]]\n",
      "              precision    recall  f1-score   support\n",
      "\n",
      "         0.0       0.97      0.97      0.97    113866\n",
      "         1.0       0.24      0.24      0.24      4242\n",
      "\n",
      "    accuracy                           0.95    118108\n",
      "   macro avg       0.61      0.60      0.61    118108\n",
      "weighted avg       0.95      0.95      0.95    118108\n",
      "\n",
      "0.9461001794967318\n"
     ]
    },
    {
     "data": {
      "image/png": "[encoded data removed]",
      "text/plain": [
       "<Figure size 432x288 with 2 Axes>"
      ]
     },
     "metadata": {
      "needs_background": "light"
     },
     "output_type": "display_data"
    }
   ],
   "source": [
    "# For real testing (20% of training dataset):\n",
    "# Returns -1 for outliers and 1 for inliers.\n",
    "\n",
    "y_pred = iso_model.predict(X_)\n",
    "# TP = 0\n",
    "# FP = 0\n",
    "# TN = 0\n",
    "# FN = 0\n",
    "for i in range(len(y_pred)):\n",
    "    if y_pred[i] == 1:\n",
    "        y_pred[i] = 0\n",
    "    if y_pred[i] == -1:\n",
    "        y_pred[i] = 1\n",
    "   \n",
    "            \n",
    "print(confusion_matrix(y_,y_pred))\n",
    "print(classification_report(y_,y_pred))\n",
    "print(accuracy_score(y_, y_pred))\n",
    "\n",
    "cm = confusion_matrix(y_, y_pred)\n",
    "sns.heatmap(cm,annot=True,fmt=\"d\");"
   ]
  },
  {
   "cell_type": "code",
   "execution_count": null,
   "metadata": {},
   "outputs": [],
   "source": []
  },
  {
   "cell_type": "markdown",
   "metadata": {},
   "source": [
    "## One-Class SVM"
   ]
  },
  {
   "cell_type": "code",
   "execution_count": 55,
   "metadata": {},
   "outputs": [
    {
     "data": {
      "text/plain": [
       "array([ 1, -1,  1, ...,  1,  1,  1])"
      ]
     },
     "execution_count": 55,
     "metadata": {},
     "output_type": "execute_result"
    }
   ],
   "source": [
    "one_svm = OneClassSVM(nu=0.04, kernel=\"rbf\",gamma=0.1)\n",
    "one_svm.fit(X_train)\n",
    "one_svm.fit_predict(X_train)"
   ]
  },
  {
   "cell_type": "code",
   "execution_count": 56,
   "metadata": {},
   "outputs": [
    {
     "name": "stdout",
     "output_type": "stream",
     "text": [
      "[[87466  3628]\n",
      " [ 3134   259]]\n",
      "              precision    recall  f1-score   support\n",
      "\n",
      "         0.0       0.97      0.96      0.96     91094\n",
      "         1.0       0.07      0.08      0.07      3393\n",
      "\n",
      "    accuracy                           0.93     94487\n",
      "   macro avg       0.52      0.52      0.52     94487\n",
      "weighted avg       0.93      0.93      0.93     94487\n",
      "\n",
      "0.92843459946871\n"
     ]
    },
    {
     "data": {
      "image/png": "[encoded data removed]",
      "text/plain": [
       "<Figure size 432x288 with 2 Axes>"
      ]
     },
     "metadata": {
      "needs_background": "light"
     },
     "output_type": "display_data"
    }
   ],
   "source": [
    "# Validation (80% Dataset training):\n",
    "# Returns -1 for outliers and 1 for inliers.\n",
    "\n",
    "y_pred = one_svm.predict(X_test)\n",
    "for i in range(len(y_pred)):\n",
    "    if y_pred[i] == 1:\n",
    "        y_pred[i] = 0\n",
    "    if y_pred[i] == -1:\n",
    "        y_pred[i] = 1\n",
    "   \n",
    "            \n",
    "print(confusion_matrix(y_test,y_pred))\n",
    "print(classification_report(y_test,y_pred))\n",
    "print(accuracy_score(y_test, y_pred))\n",
    "\n",
    "cm = confusion_matrix(y_test, y_pred)\n",
    "sns.heatmap(cm,annot=True,fmt=\"d\");"
   ]
  },
  {
   "cell_type": "code",
   "execution_count": 57,
   "metadata": {},
   "outputs": [
    {
     "name": "stdout",
     "output_type": "stream",
     "text": [
      "[[109357   4509]\n",
      " [  3908    334]]\n",
      "              precision    recall  f1-score   support\n",
      "\n",
      "         0.0       0.97      0.96      0.96    113866\n",
      "         1.0       0.07      0.08      0.07      4242\n",
      "\n",
      "    accuracy                           0.93    118108\n",
      "   macro avg       0.52      0.52      0.52    118108\n",
      "weighted avg       0.93      0.93      0.93    118108\n",
      "\n",
      "0.9287347173773157\n"
     ]
    },
    {
     "data": {
      "image/png": "[encoded data removed]",
      "text/plain": [
       "<Figure size 432x288 with 2 Axes>"
      ]
     },
     "metadata": {
      "needs_background": "light"
     },
     "output_type": "display_data"
    }
   ],
   "source": [
    "# For real testing:\n",
    "# Returns -1 for outliers and 1 for inliers.\n",
    "\n",
    "y_pred = one_svm.predict(X_)\n",
    "\n",
    "for i in range(len(y_pred)):\n",
    "    if y_pred[i] == 1:\n",
    "        y_pred[i] = 0\n",
    "    if y_pred[i] == -1:\n",
    "        y_pred[i] = 1\n",
    "   \n",
    "            \n",
    "print(confusion_matrix(y_,y_pred))\n",
    "print(classification_report(y_,y_pred))\n",
    "print(accuracy_score(y_, y_pred))\n",
    "\n",
    "cm = confusion_matrix(y_, y_pred)\n",
    "sns.heatmap(cm,annot=True,fmt=\"d\");"
   ]
  },
  {
   "cell_type": "code",
   "execution_count": null,
   "metadata": {},
   "outputs": [],
   "source": []
  },
  {
   "cell_type": "markdown",
   "metadata": {},
   "source": [
    "## Robust covariance"
   ]
  },
  {
   "cell_type": "code",
   "execution_count": 58,
   "metadata": {},
   "outputs": [],
   "source": [
    "from sklearn.covariance import EllipticEnvelope"
   ]
  },
  {
   "cell_type": "code",
   "execution_count": 59,
   "metadata": {},
   "outputs": [
    {
     "name": "stdout",
     "output_type": "stream",
     "text": [
      "[[87455  3639]\n",
      " [ 3284   109]]\n",
      "              precision    recall  f1-score   support\n",
      "\n",
      "         0.0       0.96      0.96      0.96     91094\n",
      "         1.0       0.03      0.03      0.03      3393\n",
      "\n",
      "    accuracy                           0.93     94487\n",
      "   macro avg       0.50      0.50      0.50     94487\n",
      "weighted avg       0.93      0.93      0.93     94487\n",
      "\n",
      "0.9267306613608222\n"
     ]
    },
    {
     "data": {
      "image/png": "[encoded data removed]",
      "text/plain": [
       "<Figure size 432x288 with 2 Axes>"
      ]
     },
     "metadata": {
      "needs_background": "light"
     },
     "output_type": "display_data"
    }
   ],
   "source": [
    "rob_cov = EllipticEnvelope(contamination=0.04).fit(X_train)\n",
    "rob_cov.fit_predict(X_train)\n",
    "\n",
    "# Validation (80% Dataset training):\n",
    "# Returns -1 for outliers and 1 for inliers.\n",
    "\n",
    "y_pred = rob_cov.predict(X_test)\n",
    "for i in range(len(y_pred)):\n",
    "    if y_pred[i] == 1:\n",
    "        y_pred[i] = 0\n",
    "    if y_pred[i] == -1:\n",
    "        y_pred[i] = 1\n",
    "   \n",
    "            \n",
    "print(confusion_matrix(y_test,y_pred))\n",
    "print(classification_report(y_test,y_pred))\n",
    "print(accuracy_score(y_test, y_pred))\n",
    "\n",
    "cm = confusion_matrix(y_test, y_pred)\n",
    "sns.heatmap(cm,annot=True,fmt=\"d\");"
   ]
  },
  {
   "cell_type": "code",
   "execution_count": 60,
   "metadata": {},
   "outputs": [
    {
     "name": "stdout",
     "output_type": "stream",
     "text": [
      "[[109130   4736]\n",
      " [  4107    135]]\n",
      "              precision    recall  f1-score   support\n",
      "\n",
      "         0.0       0.96      0.96      0.96    113866\n",
      "         1.0       0.03      0.03      0.03      4242\n",
      "\n",
      "    accuracy                           0.93    118108\n",
      "   macro avg       0.50      0.50      0.50    118108\n",
      "weighted avg       0.93      0.93      0.93    118108\n",
      "\n",
      "0.9251278490872761\n"
     ]
    },
    {
     "data": {
      "image/png": "[encoded data removed]",
      "text/plain": [
       "<Figure size 432x288 with 2 Axes>"
      ]
     },
     "metadata": {
      "needs_background": "light"
     },
     "output_type": "display_data"
    }
   ],
   "source": [
    "# For real testing:\n",
    "# Returns -1 for outliers and 1 for inliers.\n",
    "\n",
    "y_pred = rob_cov.predict(X_)\n",
    "\n",
    "for i in range(len(y_pred)):\n",
    "    if y_pred[i] == 1:\n",
    "        y_pred[i] = 0\n",
    "    if y_pred[i] == -1:\n",
    "        y_pred[i] = 1\n",
    "   \n",
    "            \n",
    "print(confusion_matrix(y_,y_pred))\n",
    "print(classification_report(y_,y_pred))\n",
    "print(accuracy_score(y_, y_pred))\n",
    "\n",
    "cm = confusion_matrix(y_, y_pred)\n",
    "sns.heatmap(cm,annot=True,fmt=\"d\");"
   ]
  },
  {
   "cell_type": "code",
   "execution_count": null,
   "metadata": {},
   "outputs": [],
   "source": []
  },
  {
   "cell_type": "markdown",
   "metadata": {},
   "source": [
    "# Try with Oversampling"
   ]
  },
  {
   "cell_type": "code",
   "execution_count": 26,
   "metadata": {},
   "outputs": [
    {
     "name": "stdout",
     "output_type": "stream",
     "text": [
      "(456011, 351) (16421, 351)\n",
      "(472432, 350) (472432,)\n"
     ]
    }
   ],
   "source": [
    "# Divide by class\n",
    "Normal = training[training['isFraud'] == 0]\n",
    "Fraud = training[training['isFraud'] == 1]\n",
    "\n",
    "# Set-up the target and feature columns\n",
    "\n",
    "target_column = 'isFraud'\n",
    "# feature_columns = [c for c in train.columns if c != target_column]\n",
    "\n",
    "# Pass the values into X and y\n",
    "y = training[target_column]\n",
    "X = training[new_features]\n",
    "\n",
    "print(Normal.shape, Fraud.shape)\n",
    "print(X.shape, y.shape)"
   ]
  },
  {
   "cell_type": "code",
   "execution_count": 27,
   "metadata": {},
   "outputs": [],
   "source": [
    "from imblearn.over_sampling import RandomOverSampler\n",
    "os = RandomOverSampler(ratio=1, random_state=42)\n",
    "X_res, y_res = os.fit_sample(X,y)"
   ]
  },
  {
   "cell_type": "code",
   "execution_count": 28,
   "metadata": {},
   "outputs": [
    {
     "name": "stdout",
     "output_type": "stream",
     "text": [
      "Original dataset shape Counter({0.0: 456011, 1.0: 16421})\n",
      "Oversampling dataset shape Counter({0.0: 456011, 1.0: 456011})\n"
     ]
    }
   ],
   "source": [
    "from collections import Counter\n",
    "print('Original dataset shape {}'.format(Counter(y)))\n",
    "print('Oversampling dataset shape {}'.format(Counter(y_res)))"
   ]
  },
  {
   "cell_type": "code",
   "execution_count": 29,
   "metadata": {},
   "outputs": [],
   "source": [
    "y = y_res\n",
    "X = X_res\n",
    "\n",
    "X_train, X_test, y_train, y_test = train_test_split(X, y,test_size=0.2, random_state=42)"
   ]
  },
  {
   "cell_type": "code",
   "execution_count": 30,
   "metadata": {},
   "outputs": [
    {
     "data": {
      "text/plain": [
       "array([ 1,  1, -1, ...,  1, -1, -1])"
      ]
     },
     "execution_count": 30,
     "metadata": {},
     "output_type": "execute_result"
    }
   ],
   "source": [
    "iso_model = IsolationForest(n_estimators=100,behaviour='new',contamination=0.5,random_state=42)\n",
    "iso_model.fit(X_train)\n",
    "iso_model.fit_predict(X_train)"
   ]
  },
  {
   "cell_type": "code",
   "execution_count": 31,
   "metadata": {},
   "outputs": [
    {
     "name": "stdout",
     "output_type": "stream",
     "text": [
      "[[60205 30822]\n",
      " [30742 60636]]\n",
      "              precision    recall  f1-score   support\n",
      "\n",
      "         0.0       0.66      0.66      0.66     91027\n",
      "         1.0       0.66      0.66      0.66     91378\n",
      "\n",
      "    accuracy                           0.66    182405\n",
      "   macro avg       0.66      0.66      0.66    182405\n",
      "weighted avg       0.66      0.66      0.66    182405\n",
      "\n",
      "0.6624873221677038\n"
     ]
    },
    {
     "data": {
      "image/png": "[encoded data removed]",
      "text/plain": [
       "<Figure size 432x288 with 2 Axes>"
      ]
     },
     "metadata": {
      "needs_background": "light"
     },
     "output_type": "display_data"
    }
   ],
   "source": [
    "# Validation (80% Dataset training):\n",
    "# Returns -1 for outliers and 1 for inliers.\n",
    "y_pred = iso_model.predict(X_test)\n",
    "# TP = 0\n",
    "# FP = 0\n",
    "# TN = 0\n",
    "# FN = 0\n",
    "for i in range(len(y_pred)):\n",
    "    if y_pred[i] == 1:\n",
    "        y_pred[i] = 0\n",
    "    if y_pred[i] == -1:\n",
    "        y_pred[i] = 1\n",
    "   \n",
    "            \n",
    "print(confusion_matrix(y_test,y_pred))\n",
    "print(classification_report(y_test,y_pred))\n",
    "print(accuracy_score(y_test, y_pred))\n",
    "\n",
    "cm = confusion_matrix(y_test, y_pred)\n",
    "sns.heatmap(cm,annot=True,fmt=\"d\");"
   ]
  },
  {
   "cell_type": "code",
   "execution_count": 34,
   "metadata": {},
   "outputs": [
    {
     "name": "stdout",
     "output_type": "stream",
     "text": [
      "[[75577 38289]\n",
      " [ 1451  2791]]\n",
      "              precision    recall  f1-score   support\n",
      "\n",
      "         0.0       0.98      0.66      0.79    113866\n",
      "         1.0       0.07      0.66      0.12      4242\n",
      "\n",
      "    accuracy                           0.66    118108\n",
      "   macro avg       0.52      0.66      0.46    118108\n",
      "weighted avg       0.95      0.66      0.77    118108\n",
      "\n",
      "0.6635282961357402\n"
     ]
    },
    {
     "data": {
      "image/png": "[encoded data removed]",
      "text/plain": [
       "<Figure size 432x288 with 2 Axes>"
      ]
     },
     "metadata": {
      "needs_background": "light"
     },
     "output_type": "display_data"
    }
   ],
   "source": [
    "# For real testing:\n",
    "# Returns -1 for outliers and 1 for inliers.\n",
    "\n",
    "y_pred = iso_model.predict(X_)\n",
    "# TP = 0\n",
    "# FP = 0\n",
    "# TN = 0\n",
    "# FN = 0\n",
    "for i in range(len(y_pred)):\n",
    "    if y_pred[i] == 1:\n",
    "        y_pred[i] = 0\n",
    "    if y_pred[i] == -1:\n",
    "        y_pred[i] = 1\n",
    "   \n",
    "            \n",
    "print(confusion_matrix(y_,y_pred))\n",
    "print(classification_report(y_,y_pred))\n",
    "print(accuracy_score(y_, y_pred))\n",
    "\n",
    "cm = confusion_matrix(y_, y_pred)\n",
    "sns.heatmap(cm,annot=True,fmt=\"d\");"
   ]
  },
  {
   "cell_type": "code",
   "execution_count": 33,
   "metadata": {},
   "outputs": [
    {
     "name": "stderr",
     "output_type": "stream",
     "text": [
      "/anaconda3/envs/python/lib/python3.7/site-packages/sklearn/externals/joblib/__init__.py:15: DeprecationWarning: sklearn.externals.joblib is deprecated in 0.21 and will be removed in 0.23. Please import this functionality directly from joblib, which can be installed with: pip install joblib. If this warning is raised when loading pickled models, you may need to re-serialize those models with scikit-learn 0.21+.\n",
      "  warnings.warn(msg, category=DeprecationWarning)\n"
     ]
    },
    {
     "data": {
      "text/plain": [
       "['iso_model.sav']"
      ]
     },
     "execution_count": 33,
     "metadata": {},
     "output_type": "execute_result"
    }
   ],
   "source": [
    "# Save model iso_model\n",
    "from sklearn.externals import joblib\n",
    "joblib.dump(iso_model, 'iso_model.sav')"
   ]
  },
  {
   "cell_type": "code",
   "execution_count": null,
   "metadata": {},
   "outputs": [],
   "source": []
  },
  {
   "cell_type": "markdown",
   "metadata": {},
   "source": [
    "# Functions"
   ]
  },
  {
   "cell_type": "code",
   "execution_count": null,
   "metadata": {},
   "outputs": [],
   "source": []
  },
  {
   "cell_type": "code",
   "execution_count": 5,
   "metadata": {},
   "outputs": [],
   "source": [
    "def binary_encoder(DataFrame, col):\n",
    "\n",
    "    # Using the binary encoder to deal with large_col_cat:\n",
    "\n",
    "    df = DataFrame[col]\n",
    "\n",
    "    # Calling encoder function.\n",
    "    encoder = ce.BinaryEncoder(cols=col)\n",
    "    df_binary = encoder.fit_transform(df)\n",
    "    return df_binary\n",
    "    # Concat the features with previous dataset\n",
    "#     DataFrame = pd.concat([DataFrame,df_binary],axis=1)\n",
    "#     DataFrame.drop(columns=col, inplace=True)\n",
    "    print(f'************** Finish binary_encoder *****************')"
   ]
  },
  {
   "cell_type": "code",
   "execution_count": 6,
   "metadata": {},
   "outputs": [],
   "source": [
    "def get_dummies_label(DataFrame, col):\n",
    "    # Using dummies to deal with the small amount of unique values in small_col_cat\n",
    "    df_small = DataFrame[col]\n",
    "    # Get dummies\n",
    "    df_dummies = pd.get_dummies(df_small, prefix_sep='_', drop_first=True)\n",
    "    return df_dummies\n",
    "    # Concat the features with previous dataset\n",
    "#     DataFrame = pd.concat([DataFrame,df_dummies],axis=1)\n",
    "#     DataFrame.drop(columns=col, inplace=True)\n",
    "    \n",
    "    print(f'************** Finish get_dummies_label *****************')"
   ]
  },
  {
   "cell_type": "code",
   "execution_count": null,
   "metadata": {},
   "outputs": [],
   "source": []
  }
 ],
 "metadata": {
  "kernelspec": {
   "display_name": "Python 3",
   "language": "python",
   "name": "python3"
  },
  "language_info": {
   "codemirror_mode": {
    "name": "ipython",
    "version": 3
   },
   "file_extension": ".py",
   "mimetype": "text/x-python",
   "name": "python",
   "nbconvert_exporter": "python",
   "pygments_lexer": "ipython3",
   "version": "3.7.4"
  }
 },
 "nbformat": 4,
 "nbformat_minor": 2
}
